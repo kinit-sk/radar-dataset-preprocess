{
 "cells": [
  {
   "cell_type": "code",
   "execution_count": 1,
   "metadata": {},
   "outputs": [],
   "source": [
    "import os\n",
    "from datetime import datetime\n",
    "import numpy as np\n",
    "import h5py\n",
    "import re"
   ]
  },
  {
   "cell_type": "code",
   "execution_count": 2,
   "metadata": {},
   "outputs": [],
   "source": [
    "# where are located old precomputed ratio files\n",
    "dir = r'D:\\radary_cartesian'\n",
    "# output directory (should be the same as outdir in config file)\n",
    "outdir = r'C:\\Users\\marti\\kinit\\radar-dataset-preprocess\\output'\n",
    "rootdir = r'C:\\Users\\marti\\kinit\\radar-dataset-preprocess\\data'"
   ]
  },
  {
   "cell_type": "code",
   "execution_count": 3,
   "metadata": {},
   "outputs": [],
   "source": [
    "# get paths to all hdf files in dir and its subdirectories\n",
    "filepaths = []\n",
    "for dirname, dirs, files in os.walk(dir):\n",
    "    for filename in files:\n",
    "        filename_without_extension, extension = os.path.splitext(filename)\n",
    "        if extension == '.h5':\n",
    "            filepaths.append(os.path.join(dirname, filename))"
   ]
  },
  {
   "cell_type": "code",
   "execution_count": 4,
   "metadata": {},
   "outputs": [
    {
     "name": "stdout",
     "output_type": "stream",
     "text": [
      "D:\\radary_cartesian\\20160105.h5\n"
     ]
    }
   ],
   "source": [
    "print(filepaths[4])"
   ]
  },
  {
   "cell_type": "code",
   "execution_count": 9,
   "metadata": {},
   "outputs": [
    {
     "name": "stdout",
     "output_type": "stream",
     "text": [
      "Done file number 100/1245.\n",
      "Done file number 200/1245.\n",
      "Done file number 300/1245.\n",
      "Done file number 400/1245.\n",
      "Done file number 500/1245.\n",
      "Done file number 600/1245.\n",
      "Done file number 700/1245.\n",
      "Done file number 800/1245.\n",
      "Done file number 900/1245.\n",
      "Done file number 1000/1245.\n",
      "Done file number 1100/1245.\n",
      "Done file number 1200/1245.\n"
     ]
    }
   ],
   "source": [
    "# load ratios file from dir\n",
    "ratios = np.array([], dtype=np.float64)\n",
    "timestamps = []\n",
    "i = 0\n",
    "for file in filepaths:\n",
    "    hf = h5py.File(file, 'r')\n",
    "    # save them to variables\n",
    "    ratios = np.append(ratios, hf['ratios'])\n",
    "    for item in hf['timestamps']:\n",
    "        timestamps.append(item.decode())\n",
    "    hf.close()\n",
    "    i += 1\n",
    "    if i % 100 == 0:\n",
    "        print(f'Done file number {i}/{len(filepaths)}.')"
   ]
  },
  {
   "cell_type": "code",
   "execution_count": 10,
   "metadata": {},
   "outputs": [
    {
     "data": {
      "text/plain": [
       "355761"
      ]
     },
     "execution_count": 10,
     "metadata": {},
     "output_type": "execute_result"
    }
   ],
   "source": [
    "ratios.shape[0]"
   ]
  },
  {
   "cell_type": "code",
   "execution_count": 11,
   "metadata": {},
   "outputs": [
    {
     "data": {
      "text/plain": [
       "355761"
      ]
     },
     "execution_count": 11,
     "metadata": {},
     "output_type": "execute_result"
    }
   ],
   "source": [
    "len(timestamps)"
   ]
  },
  {
   "cell_type": "code",
   "execution_count": 12,
   "metadata": {},
   "outputs": [
    {
     "data": {
      "text/plain": [
       "0.0025"
      ]
     },
     "execution_count": 12,
     "metadata": {},
     "output_type": "execute_result"
    }
   ],
   "source": [
    "ratios[2]"
   ]
  },
  {
   "cell_type": "code",
   "execution_count": 13,
   "metadata": {},
   "outputs": [
    {
     "data": {
      "text/plain": [
       "'2016-01-10T04:35:00.000000Z'"
      ]
     },
     "execution_count": 13,
     "metadata": {},
     "output_type": "execute_result"
    }
   ],
   "source": [
    "timestamps[2058]"
   ]
  },
  {
   "cell_type": "code",
   "execution_count": 14,
   "metadata": {},
   "outputs": [
    {
     "name": "stdout",
     "output_type": "stream",
     "text": [
      "All good.\n"
     ]
    }
   ],
   "source": [
    "if ratios.shape[0] != len(timestamps):\n",
    "    print('Different size of ratios and timestamps arrays. Proceed with caution.')\n",
    "else:\n",
    "    print('All good.')"
   ]
  },
  {
   "cell_type": "code",
   "execution_count": 16,
   "metadata": {},
   "outputs": [],
   "source": [
    "hf = h5py.File(os.path.join(outdir, 'ratios.h5'), 'a')\n",
    "hf.create_dataset('ratios', data=ratios, chunks=True)\n",
    "hf.create_dataset('timestamps', data=timestamps, chunks=True)\n",
    "hf.close()"
   ]
  },
  {
   "cell_type": "code",
   "execution_count": null,
   "metadata": {},
   "outputs": [],
   "source": []
  }
 ],
 "metadata": {
  "kernelspec": {
   "display_name": "radar_data_preproc_env",
   "language": "python",
   "name": "python3"
  },
  "language_info": {
   "codemirror_mode": {
    "name": "ipython",
    "version": 3
   },
   "file_extension": ".py",
   "mimetype": "text/x-python",
   "name": "python",
   "nbconvert_exporter": "python",
   "pygments_lexer": "ipython3",
   "version": "3.8.18"
  },
  "orig_nbformat": 4
 },
 "nbformat": 4,
 "nbformat_minor": 2
}
