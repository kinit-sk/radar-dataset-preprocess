{
 "cells": [
  {
   "cell_type": "code",
   "execution_count": 1,
   "metadata": {},
   "outputs": [],
   "source": [
    "from pathlib import Path\n",
    "import h5py\n",
    "from tqdm import tqdm\n",
    "\n",
    "folder = Path(\"/home/projects/p709-24-2/datasets/SHMU_4_New\")\n",
    "result = list(folder.rglob(\"*[05].h5\"))"
   ]
  },
  {
   "cell_type": "code",
   "execution_count": 2,
   "metadata": {},
   "outputs": [
    {
     "name": "stderr",
     "output_type": "stream",
     "text": [
      "  0%|          | 0/27936 [00:00<?, ?it/s]"
     ]
    },
    {
     "name": "stderr",
     "output_type": "stream",
     "text": [
      "100%|██████████| 27936/27936 [01:41<00:00, 274.25it/s]\n"
     ]
    },
    {
     "data": {
      "text/plain": [
       "[PosixPath('/home/projects/p709-24-2/datasets/SHMU_4_New/202107110815.h5'),\n",
       " PosixPath('/home/projects/p709-24-2/datasets/SHMU_4_New/202207050335.h5'),\n",
       " PosixPath('/home/projects/p709-24-2/datasets/SHMU_4_New/202208221335.h5'),\n",
       " PosixPath('/home/projects/p709-24-2/datasets/SHMU_4_New/201911121105.h5'),\n",
       " PosixPath('/home/projects/p709-24-2/datasets/SHMU_4_New/201905050530.h5'),\n",
       " PosixPath('/home/projects/p709-24-2/datasets/SHMU_4_New/201808240225.h5'),\n",
       " PosixPath('/home/projects/p709-24-2/datasets/SHMU_4_New/201911280255.h5'),\n",
       " PosixPath('/home/projects/p709-24-2/datasets/SHMU_4_New/202010041350.h5'),\n",
       " PosixPath('/home/projects/p709-24-2/datasets/SHMU_4_New/201904281925.h5'),\n",
       " PosixPath('/home/projects/p709-24-2/datasets/SHMU_4_New/201901050830.h5'),\n",
       " PosixPath('/home/projects/p709-24-2/datasets/SHMU_4_New/201905111345.h5'),\n",
       " PosixPath('/home/projects/p709-24-2/datasets/SHMU_4_New/201903052345.h5'),\n",
       " PosixPath('/home/projects/p709-24-2/datasets/SHMU_4_New/201909080855.h5'),\n",
       " PosixPath('/home/projects/p709-24-2/datasets/SHMU_4_New/201812080235.h5'),\n",
       " PosixPath('/home/projects/p709-24-2/datasets/SHMU_4_New/201904301735.h5'),\n",
       " PosixPath('/home/projects/p709-24-2/datasets/SHMU_4_New/201810241405.h5'),\n",
       " PosixPath('/home/projects/p709-24-2/datasets/SHMU_4_New/201909080130.h5'),\n",
       " PosixPath('/home/projects/p709-24-2/datasets/SHMU_4_New/201903160155.h5'),\n",
       " PosixPath('/home/projects/p709-24-2/datasets/SHMU_4_New/201905291800.h5'),\n",
       " PosixPath('/home/projects/p709-24-2/datasets/SHMU_4_New/201903102025.h5'),\n",
       " PosixPath('/home/projects/p709-24-2/datasets/SHMU_4_New/201811261535.h5'),\n",
       " PosixPath('/home/projects/p709-24-2/datasets/SHMU_4_New/201903161510.h5'),\n",
       " PosixPath('/home/projects/p709-24-2/datasets/SHMU_4_New/201812081920.h5'),\n",
       " PosixPath('/home/projects/p709-24-2/datasets/SHMU_4_New/201809010220.h5'),\n",
       " PosixPath('/home/projects/p709-24-2/datasets/SHMU_4_New/201911281430.h5'),\n",
       " PosixPath('/home/projects/p709-24-2/datasets/SHMU_4_New/201809040610.h5'),\n",
       " PosixPath('/home/projects/p709-24-2/datasets/SHMU_4_New/201901081130.h5'),\n",
       " PosixPath('/home/projects/p709-24-2/datasets/SHMU_4_New/201903050120.h5'),\n",
       " PosixPath('/home/projects/p709-24-2/datasets/SHMU_4_New/202010120030.h5'),\n",
       " PosixPath('/home/projects/p709-24-2/datasets/SHMU_4_New/201908071120.h5'),\n",
       " PosixPath('/home/projects/p709-24-2/datasets/SHMU_4_New/201812240810.h5'),\n",
       " PosixPath('/home/projects/p709-24-2/datasets/SHMU_4_New/201912220725.h5'),\n",
       " PosixPath('/home/projects/p709-24-2/datasets/SHMU_4_New/201901051400.h5'),\n",
       " PosixPath('/home/projects/p709-24-2/datasets/SHMU_4_New/201907280100.h5'),\n",
       " PosixPath('/home/projects/p709-24-2/datasets/SHMU_4_New/201901132330.h5')]"
      ]
     },
     "execution_count": 2,
     "metadata": {},
     "output_type": "execute_result"
    }
   ],
   "source": [
    "errs = []\n",
    "\n",
    "for res in tqdm(result):\n",
    "    with h5py.File(res, 'r') as f:\n",
    "        ls = list(f.keys())\n",
    "    if len(ls) < 7:\n",
    "        errs.append(res)\n",
    "errs"
   ]
  },
  {
   "cell_type": "code",
   "execution_count": 7,
   "metadata": {},
   "outputs": [
    {
     "name": "stdout",
     "output_type": "stream",
     "text": [
      "202107110815.h5\n",
      "202207050335.h5\n",
      "202208221335.h5\n",
      "201911121105.h5\n",
      "201905050530.h5\n",
      "201808240225.h5\n",
      "201911280255.h5\n",
      "202010041350.h5\n",
      "201904281925.h5\n",
      "201901050830.h5\n",
      "201905111345.h5\n",
      "201903052345.h5\n",
      "201909080855.h5\n",
      "201812080235.h5\n",
      "201904301735.h5\n",
      "201810241405.h5\n",
      "201909080130.h5\n",
      "201903160155.h5\n",
      "201905291800.h5\n",
      "201903102025.h5\n",
      "201811261535.h5\n",
      "201903161510.h5\n",
      "201812081920.h5\n",
      "201809010220.h5\n",
      "201911281430.h5\n"
     ]
    },
    {
     "name": "stdout",
     "output_type": "stream",
     "text": [
      "201809040610.h5\n",
      "201901081130.h5\n",
      "201903050120.h5\n",
      "202010120030.h5\n",
      "201908071120.h5\n",
      "201812240810.h5\n",
      "201912220725.h5\n",
      "201901051400.h5\n",
      "201907280100.h5\n",
      "201901132330.h5\n"
     ]
    }
   ],
   "source": [
    "import os\n",
    "\n",
    "for res in (errs):\n",
    "    with h5py.File(res, 'r') as f:\n",
    "        ls = list(f.keys())\n",
    "    print(os.path.basename(res))"
   ]
  },
  {
   "cell_type": "code",
   "execution_count": 10,
   "metadata": {},
   "outputs": [],
   "source": [
    "with open('/home/projects/p709-24-2/datasets/SHMU_4_New/metadata/incomplete.txt', 'w') as f:\n",
    "    for res in errs:\n",
    "        f.write(f\"{os.path.basename(res)}\\n\")"
   ]
  }
 ],
 "metadata": {
  "kernelspec": {
   "display_name": "nowcasting",
   "language": "python",
   "name": "python3"
  },
  "language_info": {
   "codemirror_mode": {
    "name": "ipython",
    "version": 3
   },
   "file_extension": ".py",
   "mimetype": "text/x-python",
   "name": "python",
   "nbconvert_exporter": "python",
   "pygments_lexer": "ipython3",
   "version": "3.12.3"
  }
 },
 "nbformat": 4,
 "nbformat_minor": 2
}
